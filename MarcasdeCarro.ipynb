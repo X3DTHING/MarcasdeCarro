{
  "nbformat": 4,
  "nbformat_minor": 0,
  "metadata": {
    "colab": {
      "provenance": [],
      "authorship_tag": "ABX9TyPSD+EHyI5YoU+3gEA4B1lK",
      "include_colab_link": true
    },
    "kernelspec": {
      "name": "python3",
      "display_name": "Python 3"
    },
    "language_info": {
      "name": "python"
    }
  },
  "cells": [
    {
      "cell_type": "markdown",
      "metadata": {
        "id": "view-in-github",
        "colab_type": "text"
      },
      "source": [
        "<a href=\"https://colab.research.google.com/github/X3DTHING/MarcasdeCarro/blob/main/MarcasdeCarro.ipynb\" target=\"_parent\"><img src=\"https://colab.research.google.com/assets/colab-badge.svg\" alt=\"Open In Colab\"/></a>"
      ]
    },
    {
      "cell_type": "code",
      "execution_count": null,
      "metadata": {
        "colab": {
          "base_uri": "https://localhost:8080/"
        },
        "id": "2bmEL9GegeQz",
        "outputId": "105d9078-a688-4106-a35b-44d5e9811dd6"
      },
      "outputs": [
        {
          "output_type": "stream",
          "name": "stdout",
          "text": [
            "['ford', 'nissan', 'honda', 'peugeot']\n",
            "['ford', 'fiat', 'honda', 'peugeot']\n"
          ]
        }
      ],
      "source": [
        "marcas = [\n",
        "    \"ford\",\n",
        "    \"nissan\",\n",
        "    \"honda\",\n",
        "    \"peugeot\"\n",
        "]\n",
        "\n",
        "print(marcas)\n",
        "\n",
        "marcas[1] = \"fiat\"\n",
        "\n",
        "print(marcas)\n"
      ]
    }
  ]
}