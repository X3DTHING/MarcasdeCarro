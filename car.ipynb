{
  "nbformat": 4,
  "nbformat_minor": 0,
  "metadata": {
    "colab": {
      "provenance": [],
      "authorship_tag": "ABX9TyOVOo95QDxuOqsLgGgXHGwf",
      "include_colab_link": true
    },
    "kernelspec": {
      "name": "python3",
      "display_name": "Python 3"
    },
    "language_info": {
      "name": "python"
    }
  },
  "cells": [
    {
      "cell_type": "markdown",
      "metadata": {
        "id": "view-in-github",
        "colab_type": "text"
      },
      "source": [
        "<a href=\"https://colab.research.google.com/github/X3DTHING/MarcasdeCarro/blob/main/car.ipynb\" target=\"_parent\"><img src=\"https://colab.research.google.com/assets/colab-badge.svg\" alt=\"Open In Colab\"/></a>"
      ]
    },
    {
      "cell_type": "code",
      "execution_count": null,
      "metadata": {
        "id": "q7vqrkKULfYv"
      },
      "outputs": [],
      "source": [
        "# Lista de marcas de carros\n",
        "marcas_carros = [\"Toyota\", \"Honda\", \"Ford\", \"BMW\", \"Tesla\", \"Mercedes-Benz\"]\n",
        "\n",
        "# Exibindo as marcas de carros\n",
        "print(\"Marcas de carros:\")\n",
        "\n",
        "for marca in marcas_carros:\n",
        "    print(\"-\", marca)\n"
      ]
    }
  ]
}